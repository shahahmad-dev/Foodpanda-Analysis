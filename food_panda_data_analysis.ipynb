{
 "cells": [
  {
   "cell_type": "markdown",
   "id": "e9f21c9d",
   "metadata": {},
   "source": [
    "# **1- Import libraries**"
   ]
  },
  {
   "cell_type": "code",
   "execution_count": 27,
   "id": "5dbb987e",
   "metadata": {},
   "outputs": [],
   "source": [
    "import pandas as pd\n",
    "import numpy as np\n",
    "import matplotlib.pyplot as plt\n",
    "import seaborn as sns"
   ]
  },
  {
   "cell_type": "markdown",
   "id": "98af443b",
   "metadata": {},
   "source": [
    "# **2- Load Data**"
   ]
  },
  {
   "cell_type": "code",
   "execution_count": 28,
   "id": "a705b346",
   "metadata": {},
   "outputs": [],
   "source": [
    "df = pd.read_csv('Foodpanda Analysis Dataset.csv')"
   ]
  },
  {
   "cell_type": "code",
   "execution_count": 29,
   "id": "283a8baa",
   "metadata": {},
   "outputs": [
    {
     "name": "stdout",
     "output_type": "stream",
     "text": [
      "<class 'pandas.core.frame.DataFrame'>\n",
      "RangeIndex: 6000 entries, 0 to 5999\n",
      "Data columns (total 20 columns):\n",
      " #   Column           Non-Null Count  Dtype  \n",
      "---  ------           --------------  -----  \n",
      " 0   customer_id      6000 non-null   object \n",
      " 1   gender           6000 non-null   object \n",
      " 2   age              6000 non-null   object \n",
      " 3   city             6000 non-null   object \n",
      " 4   signup_date      6000 non-null   object \n",
      " 5   order_id         6000 non-null   object \n",
      " 6   order_date       6000 non-null   object \n",
      " 7   restaurant_name  6000 non-null   object \n",
      " 8   dish_name        6000 non-null   object \n",
      " 9   category         6000 non-null   object \n",
      " 10  quantity         6000 non-null   int64  \n",
      " 11  price            6000 non-null   float64\n",
      " 12  payment_method   6000 non-null   object \n",
      " 13  order_frequency  6000 non-null   int64  \n",
      " 14  last_order_date  6000 non-null   object \n",
      " 15  loyalty_points   6000 non-null   int64  \n",
      " 16  churned          6000 non-null   object \n",
      " 17  rating           6000 non-null   int64  \n",
      " 18  rating_date      6000 non-null   object \n",
      " 19  delivery_status  6000 non-null   object \n",
      "dtypes: float64(1), int64(4), object(15)\n",
      "memory usage: 937.6+ KB\n"
     ]
    }
   ],
   "source": [
    "df.info()"
   ]
  },
  {
   "cell_type": "code",
   "execution_count": 30,
   "id": "565f0f33",
   "metadata": {},
   "outputs": [
    {
     "data": {
      "text/html": [
       "<div>\n",
       "<style scoped>\n",
       "    .dataframe tbody tr th:only-of-type {\n",
       "        vertical-align: middle;\n",
       "    }\n",
       "\n",
       "    .dataframe tbody tr th {\n",
       "        vertical-align: top;\n",
       "    }\n",
       "\n",
       "    .dataframe thead th {\n",
       "        text-align: right;\n",
       "    }\n",
       "</style>\n",
       "<table border=\"1\" class=\"dataframe\">\n",
       "  <thead>\n",
       "    <tr style=\"text-align: right;\">\n",
       "      <th></th>\n",
       "      <th>customer_id</th>\n",
       "      <th>gender</th>\n",
       "      <th>age</th>\n",
       "      <th>city</th>\n",
       "      <th>signup_date</th>\n",
       "      <th>order_id</th>\n",
       "      <th>order_date</th>\n",
       "      <th>restaurant_name</th>\n",
       "      <th>dish_name</th>\n",
       "      <th>category</th>\n",
       "      <th>quantity</th>\n",
       "      <th>price</th>\n",
       "      <th>payment_method</th>\n",
       "      <th>order_frequency</th>\n",
       "      <th>last_order_date</th>\n",
       "      <th>loyalty_points</th>\n",
       "      <th>churned</th>\n",
       "      <th>rating</th>\n",
       "      <th>rating_date</th>\n",
       "      <th>delivery_status</th>\n",
       "    </tr>\n",
       "  </thead>\n",
       "  <tbody>\n",
       "    <tr>\n",
       "      <th>0</th>\n",
       "      <td>C5663</td>\n",
       "      <td>Male</td>\n",
       "      <td>Adult</td>\n",
       "      <td>Peshawar</td>\n",
       "      <td>1/14/2024</td>\n",
       "      <td>O9663</td>\n",
       "      <td>8/23/2023</td>\n",
       "      <td>McDonald's</td>\n",
       "      <td>Burger</td>\n",
       "      <td>Italian</td>\n",
       "      <td>5</td>\n",
       "      <td>1478.27</td>\n",
       "      <td>Cash</td>\n",
       "      <td>38</td>\n",
       "      <td>7/19/2025</td>\n",
       "      <td>238</td>\n",
       "      <td>Active</td>\n",
       "      <td>3</td>\n",
       "      <td>10/14/2024</td>\n",
       "      <td>Cancelled</td>\n",
       "    </tr>\n",
       "    <tr>\n",
       "      <th>1</th>\n",
       "      <td>C2831</td>\n",
       "      <td>Male</td>\n",
       "      <td>Adult</td>\n",
       "      <td>Multan</td>\n",
       "      <td>7/7/2024</td>\n",
       "      <td>O6831</td>\n",
       "      <td>8/23/2023</td>\n",
       "      <td>KFC</td>\n",
       "      <td>Burger</td>\n",
       "      <td>Italian</td>\n",
       "      <td>3</td>\n",
       "      <td>956.04</td>\n",
       "      <td>Wallet</td>\n",
       "      <td>24</td>\n",
       "      <td>11/25/2024</td>\n",
       "      <td>81</td>\n",
       "      <td>Active</td>\n",
       "      <td>2</td>\n",
       "      <td>8/21/2025</td>\n",
       "      <td>Delayed</td>\n",
       "    </tr>\n",
       "    <tr>\n",
       "      <th>2</th>\n",
       "      <td>C2851</td>\n",
       "      <td>Other</td>\n",
       "      <td>Senior</td>\n",
       "      <td>Multan</td>\n",
       "      <td>6/20/2025</td>\n",
       "      <td>O6851</td>\n",
       "      <td>8/23/2023</td>\n",
       "      <td>Pizza Hut</td>\n",
       "      <td>Fries</td>\n",
       "      <td>Italian</td>\n",
       "      <td>2</td>\n",
       "      <td>882.51</td>\n",
       "      <td>Cash</td>\n",
       "      <td>42</td>\n",
       "      <td>5/10/2025</td>\n",
       "      <td>82</td>\n",
       "      <td>Inactive</td>\n",
       "      <td>3</td>\n",
       "      <td>9/19/2024</td>\n",
       "      <td>Delayed</td>\n",
       "    </tr>\n",
       "    <tr>\n",
       "      <th>3</th>\n",
       "      <td>C1694</td>\n",
       "      <td>Female</td>\n",
       "      <td>Senior</td>\n",
       "      <td>Peshawar</td>\n",
       "      <td>9/5/2023</td>\n",
       "      <td>O5694</td>\n",
       "      <td>8/23/2023</td>\n",
       "      <td>Subway</td>\n",
       "      <td>Pizza</td>\n",
       "      <td>Dessert</td>\n",
       "      <td>4</td>\n",
       "      <td>231.30</td>\n",
       "      <td>Card</td>\n",
       "      <td>27</td>\n",
       "      <td>7/24/2025</td>\n",
       "      <td>45</td>\n",
       "      <td>Inactive</td>\n",
       "      <td>2</td>\n",
       "      <td>6/29/2025</td>\n",
       "      <td>Delayed</td>\n",
       "    </tr>\n",
       "    <tr>\n",
       "      <th>4</th>\n",
       "      <td>C4339</td>\n",
       "      <td>Other</td>\n",
       "      <td>Senior</td>\n",
       "      <td>Lahore</td>\n",
       "      <td>12/29/2023</td>\n",
       "      <td>O8339</td>\n",
       "      <td>8/24/2023</td>\n",
       "      <td>KFC</td>\n",
       "      <td>Sandwich</td>\n",
       "      <td>Dessert</td>\n",
       "      <td>1</td>\n",
       "      <td>1156.69</td>\n",
       "      <td>Cash</td>\n",
       "      <td>35</td>\n",
       "      <td>12/21/2024</td>\n",
       "      <td>418</td>\n",
       "      <td>Inactive</td>\n",
       "      <td>3</td>\n",
       "      <td>3/6/2025</td>\n",
       "      <td>Cancelled</td>\n",
       "    </tr>\n",
       "  </tbody>\n",
       "</table>\n",
       "</div>"
      ],
      "text/plain": [
       "  customer_id  gender     age      city signup_date order_id order_date  \\\n",
       "0       C5663    Male   Adult  Peshawar   1/14/2024    O9663  8/23/2023   \n",
       "1       C2831    Male   Adult    Multan    7/7/2024    O6831  8/23/2023   \n",
       "2       C2851   Other  Senior    Multan   6/20/2025    O6851  8/23/2023   \n",
       "3       C1694  Female  Senior  Peshawar    9/5/2023    O5694  8/23/2023   \n",
       "4       C4339   Other  Senior    Lahore  12/29/2023    O8339  8/24/2023   \n",
       "\n",
       "  restaurant_name dish_name category  quantity    price payment_method  \\\n",
       "0      McDonald's    Burger  Italian         5  1478.27           Cash   \n",
       "1             KFC    Burger  Italian         3   956.04         Wallet   \n",
       "2       Pizza Hut     Fries  Italian         2   882.51           Cash   \n",
       "3          Subway     Pizza  Dessert         4   231.30           Card   \n",
       "4             KFC  Sandwich  Dessert         1  1156.69           Cash   \n",
       "\n",
       "   order_frequency last_order_date  loyalty_points   churned  rating  \\\n",
       "0               38       7/19/2025             238    Active       3   \n",
       "1               24      11/25/2024              81    Active       2   \n",
       "2               42       5/10/2025              82  Inactive       3   \n",
       "3               27       7/24/2025              45  Inactive       2   \n",
       "4               35      12/21/2024             418  Inactive       3   \n",
       "\n",
       "  rating_date delivery_status  \n",
       "0  10/14/2024       Cancelled  \n",
       "1   8/21/2025         Delayed  \n",
       "2   9/19/2024         Delayed  \n",
       "3   6/29/2025         Delayed  \n",
       "4    3/6/2025       Cancelled  "
      ]
     },
     "execution_count": 30,
     "metadata": {},
     "output_type": "execute_result"
    }
   ],
   "source": [
    "df.head()"
   ]
  },
  {
   "cell_type": "markdown",
   "id": "35fd9bf0",
   "metadata": {},
   "source": [
    "# **3- Analyzing Data:**"
   ]
  },
  {
   "cell_type": "markdown",
   "id": "656a5e45",
   "metadata": {},
   "source": [
    "# 3.1- Data Types Conversion"
   ]
  },
  {
   "cell_type": "code",
   "execution_count": 31,
   "id": "7a1f0167",
   "metadata": {},
   "outputs": [
    {
     "name": "stdout",
     "output_type": "stream",
     "text": [
      "<class 'pandas.core.frame.DataFrame'>\n",
      "RangeIndex: 6000 entries, 0 to 5999\n",
      "Data columns (total 20 columns):\n",
      " #   Column           Non-Null Count  Dtype  \n",
      "---  ------           --------------  -----  \n",
      " 0   customer_id      6000 non-null   object \n",
      " 1   gender           6000 non-null   object \n",
      " 2   age              6000 non-null   object \n",
      " 3   city             6000 non-null   object \n",
      " 4   signup_date      6000 non-null   object \n",
      " 5   order_id         6000 non-null   object \n",
      " 6   order_date       6000 non-null   object \n",
      " 7   restaurant_name  6000 non-null   object \n",
      " 8   dish_name        6000 non-null   object \n",
      " 9   category         6000 non-null   object \n",
      " 10  quantity         6000 non-null   int64  \n",
      " 11  price            6000 non-null   float64\n",
      " 12  payment_method   6000 non-null   object \n",
      " 13  order_frequency  6000 non-null   int64  \n",
      " 14  last_order_date  6000 non-null   object \n",
      " 15  loyalty_points   6000 non-null   int64  \n",
      " 16  churned          6000 non-null   object \n",
      " 17  rating           6000 non-null   int64  \n",
      " 18  rating_date      6000 non-null   object \n",
      " 19  delivery_status  6000 non-null   object \n",
      "dtypes: float64(1), int64(4), object(15)\n",
      "memory usage: 937.6+ KB\n"
     ]
    }
   ],
   "source": [
    "df.info()"
   ]
  },
  {
   "cell_type": "code",
   "execution_count": 32,
   "id": "088e918b",
   "metadata": {},
   "outputs": [],
   "source": [
    "column = ['signup_date','order_date', 'last_order_date', 'rating_date' ]\n",
    "\n",
    "for col in column:\n",
    "    df[col] = pd.to_datetime(df[col], errors='coerce')\n",
    "    "
   ]
  },
  {
   "cell_type": "markdown",
   "id": "181499c5",
   "metadata": {},
   "source": [
    "# 3.2 Finding missing values"
   ]
  },
  {
   "cell_type": "code",
   "execution_count": 33,
   "id": "b61c60a0",
   "metadata": {},
   "outputs": [
    {
     "data": {
      "text/plain": [
       "customer_id        0\n",
       "gender             0\n",
       "age                0\n",
       "city               0\n",
       "signup_date        0\n",
       "order_id           0\n",
       "order_date         0\n",
       "restaurant_name    0\n",
       "dish_name          0\n",
       "category           0\n",
       "quantity           0\n",
       "price              0\n",
       "payment_method     0\n",
       "order_frequency    0\n",
       "last_order_date    0\n",
       "loyalty_points     0\n",
       "churned            0\n",
       "rating             0\n",
       "rating_date        0\n",
       "delivery_status    0\n",
       "dtype: int64"
      ]
     },
     "execution_count": 33,
     "metadata": {},
     "output_type": "execute_result"
    }
   ],
   "source": [
    "df.isnull().sum()"
   ]
  },
  {
   "cell_type": "markdown",
   "id": "d6dfe73d",
   "metadata": {},
   "source": [
    "# **4- Cleaning Data:**"
   ]
  },
  {
   "cell_type": "code",
   "execution_count": 34,
   "id": "715ef28d",
   "metadata": {},
   "outputs": [],
   "source": [
    "# Dropping unnecessary columns\n",
    "df = df.drop(['customer_id', 'order_date' , 'order_frequency','last_order_date', 'rating_date' ], axis=1)"
   ]
  },
  {
   "cell_type": "code",
   "execution_count": 35,
   "id": "2b47d92e",
   "metadata": {},
   "outputs": [
    {
     "name": "stdout",
     "output_type": "stream",
     "text": [
      "<class 'pandas.core.frame.DataFrame'>\n",
      "RangeIndex: 6000 entries, 0 to 5999\n",
      "Data columns (total 15 columns):\n",
      " #   Column           Non-Null Count  Dtype         \n",
      "---  ------           --------------  -----         \n",
      " 0   gender           6000 non-null   object        \n",
      " 1   age              6000 non-null   object        \n",
      " 2   city             6000 non-null   object        \n",
      " 3   signup_date      6000 non-null   datetime64[ns]\n",
      " 4   order_id         6000 non-null   object        \n",
      " 5   restaurant_name  6000 non-null   object        \n",
      " 6   dish_name        6000 non-null   object        \n",
      " 7   category         6000 non-null   object        \n",
      " 8   quantity         6000 non-null   int64         \n",
      " 9   price            6000 non-null   float64       \n",
      " 10  payment_method   6000 non-null   object        \n",
      " 11  loyalty_points   6000 non-null   int64         \n",
      " 12  churned          6000 non-null   object        \n",
      " 13  rating           6000 non-null   int64         \n",
      " 14  delivery_status  6000 non-null   object        \n",
      "dtypes: datetime64[ns](1), float64(1), int64(3), object(10)\n",
      "memory usage: 703.3+ KB\n"
     ]
    }
   ],
   "source": [
    "df.info()"
   ]
  },
  {
   "cell_type": "code",
   "execution_count": null,
   "id": "25e7d432",
   "metadata": {},
   "outputs": [],
   "source": []
  }
 ],
 "metadata": {
  "kernelspec": {
   "display_name": "python_eda",
   "language": "python",
   "name": "python3"
  },
  "language_info": {
   "codemirror_mode": {
    "name": "ipython",
    "version": 3
   },
   "file_extension": ".py",
   "mimetype": "text/x-python",
   "name": "python",
   "nbconvert_exporter": "python",
   "pygments_lexer": "ipython3",
   "version": "3.13.5"
  }
 },
 "nbformat": 4,
 "nbformat_minor": 5
}
